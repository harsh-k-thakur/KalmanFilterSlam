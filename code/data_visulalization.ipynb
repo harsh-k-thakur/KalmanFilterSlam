{
 "cells": [
  {
   "cell_type": "code",
   "execution_count": 1,
   "id": "6d52eb44",
   "metadata": {},
   "outputs": [],
   "source": [
    "import numpy as np\n",
    "from pr3_utils import *"
   ]
  },
  {
   "cell_type": "code",
   "execution_count": 2,
   "id": "e29eb6fb",
   "metadata": {},
   "outputs": [],
   "source": [
    "t = 0\n",
    "features = 0\n",
    "linear_velocity = 0\n",
    "angular_velocity = 0\n",
    "K = 0\n",
    "b = 0\n",
    "imu_T_cam = 0"
   ]
  },
  {
   "cell_type": "code",
   "execution_count": 3,
   "id": "27ad5e93",
   "metadata": {},
   "outputs": [],
   "source": [
    "if __name__ == '__main__':\n",
    "    # Load the measurements\n",
    "    filename = \"./data/10.npz\"\n",
    "    t,features,linear_velocity,angular_velocity,K,b,imu_T_cam = load_data(filename)\n",
    "\n",
    "    # (a) IMU Localization via EKF Prediction\n",
    "\n",
    "    # (b) Landmark Mapping via EKF Update\n",
    "\n",
    "    # (c) Visual-Inertial SLAM\n",
    "\n",
    "    # You can use the function below to visualize the robot pose over time\n",
    "    # visualize_trajectory_2d(world_T_imu, show_ori = True)"
   ]
  },
  {
   "cell_type": "code",
   "execution_count": 4,
   "id": "3c249211",
   "metadata": {},
   "outputs": [
    {
     "name": "stdout",
     "output_type": "stream",
     "text": [
      "(3026,)\n",
      "[[1.36974249e+09 1.36974249e+09 1.36974249e+09 ... 1.36974280e+09\n",
      "  1.36974280e+09 1.36974280e+09]]\n"
     ]
    }
   ],
   "source": [
    "print(t[0].shape)\n",
    "print(t)"
   ]
  },
  {
   "cell_type": "code",
   "execution_count": 12,
   "id": "ba79c819",
   "metadata": {},
   "outputs": [
    {
     "name": "stdout",
     "output_type": "stream",
     "text": [
      "(4, 13289, 3026)\n",
      "(4, 13289)\n",
      "[1278.50036621  257.12567139 1232.65490723  257.28314209]\n"
     ]
    }
   ],
   "source": [
    "print(features.shape)\n",
    "# features[:, :, t] this will help me find the features at time t\n",
    "print(features[:, :, 0].shape)\n",
    "print(features[:, 55, 0])\n",
    "\n",
    "first = features[:, :, 0]\n",
    "# print(); print(\"First\"); print(first.shape)\n",
    "# np.where( np.all(arr == np.array([10,15,30]), axis=-1) )\n",
    "\n",
    "not_needed = np.array([-1. ,-1., -1., -1.])\n",
    "only_required = np.where((first[0, :]!=-1) & (first[1, :]!=-1) & (first[2, :]!=-1) & (first[3, :]!=-1))\n",
    "# non_identified = np.where(first == not_needed)\n",
    "_, M, _ = np.nan, np.nan, np.nan\n",
    "# print(); print(\"Only required\"); print(first[:, only_required].shape); print(first[:, only_required])"
   ]
  },
  {
   "cell_type": "code",
   "execution_count": null,
   "id": "6ca8a5ac",
   "metadata": {},
   "outputs": [],
   "source": [
    "# With linear_velocity and angular velocity it becomes 6-dimensional\n",
    "print(\"Linear Velocity\")\n",
    "print(linear_velocity.shape)\n",
    "# print(linear_velocity)\n",
    "\n",
    "print()\n",
    "print(\"Angular Velocity\")\n",
    "print(angular_velocity.shape)\n",
    "# print(angular_velocity)"
   ]
  },
  {
   "cell_type": "code",
   "execution_count": null,
   "id": "f016c21a",
   "metadata": {},
   "outputs": [],
   "source": [
    "linear_velocity[:, 10]"
   ]
  },
  {
   "cell_type": "code",
   "execution_count": 4,
   "id": "d7ebba2b",
   "metadata": {},
   "outputs": [
    {
     "name": "stdout",
     "output_type": "stream",
     "text": [
      "K\n",
      "(3, 3)\n",
      "[[552.554261   0.       682.049453]\n",
      " [  0.       552.554261 238.769549]\n",
      " [  0.         0.         1.      ]]\n"
     ]
    }
   ],
   "source": [
    "# The most important; K matrix for camera frame\n",
    "print(\"K\")\n",
    "print(K.shape)\n",
    "print(K)"
   ]
  },
  {
   "cell_type": "code",
   "execution_count": 6,
   "id": "466dfcd5",
   "metadata": {},
   "outputs": [
    {
     "name": "stdout",
     "output_type": "stream",
     "text": [
      "Baseline\n",
      "()\n",
      "0.6\n"
     ]
    }
   ],
   "source": [
    "# The base line of the camera\n",
    "print(\"Baseline\")\n",
    "print(b.shape)\n",
    "print(b)"
   ]
  },
  {
   "cell_type": "code",
   "execution_count": 7,
   "id": "a197ed0f",
   "metadata": {},
   "outputs": [
    {
     "name": "stdout",
     "output_type": "stream",
     "text": [
      "Pose of IMU\n",
      "(4, 4)\n",
      "[[ 0.03717833 -0.09861822  0.9944306   1.5752681 ]\n",
      " [ 0.99926755 -0.00535534 -0.03789026  0.00439141]\n",
      " [ 0.00906218  0.99511094  0.09834688 -0.65      ]\n",
      " [ 0.          0.          0.          1.        ]]\n"
     ]
    }
   ],
   "source": [
    "print(\"Pose of IMU\")\n",
    "print(imu_T_cam.shape)\n",
    "print(imu_T_cam)"
   ]
  },
  {
   "cell_type": "code",
   "execution_count": null,
   "id": "1eca8d66",
   "metadata": {},
   "outputs": [],
   "source": []
  },
  {
   "cell_type": "code",
   "execution_count": null,
   "id": "430ead26",
   "metadata": {},
   "outputs": [],
   "source": []
  }
 ],
 "metadata": {
  "kernelspec": {
   "display_name": "Python 3 (ipykernel)",
   "language": "python",
   "name": "python3"
  },
  "language_info": {
   "codemirror_mode": {
    "name": "ipython",
    "version": 3
   },
   "file_extension": ".py",
   "mimetype": "text/x-python",
   "name": "python",
   "nbconvert_exporter": "python",
   "pygments_lexer": "ipython3",
   "version": "3.9.7"
  }
 },
 "nbformat": 4,
 "nbformat_minor": 5
}
